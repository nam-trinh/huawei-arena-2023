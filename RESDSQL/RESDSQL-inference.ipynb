{
 "cells": [
  {
   "cell_type": "markdown",
   "id": "67a6314b",
   "metadata": {},
   "source": [
    "# Schema linking"
   ]
  },
  {
   "cell_type": "code",
   "execution_count": null,
   "id": "abe954ca",
   "metadata": {},
   "outputs": [],
   "source": [
    "import os\n",
    "import json\n",
    "import torch\n",
    "import transformers\n",
    "import argparse\n",
    "import torch.optim as optim\n",
    "\n",
    "from tqdm import tqdm\n",
    "from copy import deepcopy\n",
    "from tokenizers import AddedToken\n",
    "from utils.classifier_metric.evaluator import cls_metric, auc_metric\n",
    "from torch.utils.data import DataLoader\n",
    "from transformers import RobertaTokenizerFast, XLMRobertaTokenizerFast\n",
    "from utils.classifier_model import MyClassifier\n",
    "from utils.classifier_loss import ClassifierLoss\n",
    "from transformers.trainer_utils import set_seed\n",
    "from torch.utils.tensorboard import SummaryWriter\n",
    "from utils.load_dataset import ColumnAndTableClassifierDataset"
   ]
  },
  {
   "cell_type": "code",
   "execution_count": null,
   "id": "9dde682d",
   "metadata": {},
   "outputs": [],
   "source": [
    "text2natsql_model_save_path=\"./models/text2natsql-t5-base/checkpoint-14352\"\n",
    "text2natsql_model_bs=16"
   ]
  },
  {
   "cell_type": "code",
   "execution_count": 1,
   "id": "630740eb",
   "metadata": {},
   "outputs": [],
   "source": [
    "from infection.databases import SQL3Database\n",
    "import sqlite3\n",
    "\n",
    "def connect_func(database_name: str, database_type: str = 'sqlite3'):\n",
    "    try:\n",
    "        connection = SQL3Database(database_name)\n",
    "        return connection\n",
    "    except sqlite3.Error as e:\n",
    "        print(f\"Error connecting to the database: {e}\")\n",
    "        return None\n"
   ]
  },
  {
   "cell_type": "code",
   "execution_count": 3,
   "id": "3be4ed94",
   "metadata": {},
   "outputs": [],
   "source": [
    "question = \"What's the statistic code used for fully vaccinated?\""
   ]
  },
  {
   "cell_type": "code",
   "execution_count": 4,
   "id": "9de82edd",
   "metadata": {},
   "outputs": [
    {
     "name": "stdout",
     "output_type": "stream",
     "text": [
      "\n",
      "CREATE TABLE covid_vaccinations (\n",
      " \tSTATISTIC_CODE varchar(10),\n",
      "\tStatistic_Label varchar(30),\n",
      "\tTLIST(M1) INT,\n",
      "\tMonth varchar(20),\n",
      "\tC03898V04649 varchar(30),\n",
      "\tLocal Electoral Area varchar(50),\n",
      "\tC02076V03371 varchar(10),\n",
      "\tAge Group varchar(30),\n",
      "\tUNIT varchar(10),\n",
      "\tVALUE float,\n",
      ");\n",
      "SELECT * FROM covid_vaccinations LIMIT 1;\n",
      "| STATISTIC_CODE   | Statistic_Label   |   TLIST(M1) | Month        | C03898V04649                         | Local Electoral Area                 |   C02076V03371 | Age Group    | UNIT   |   VALUE |\n",
      "|------------------|-------------------|-------------|--------------|--------------------------------------|--------------------------------------|----------------|--------------|--------|---------|\n",
      "| CDC45C01         | Fully Vaccinated  |      202101 | 2021 January | 2ae19629-3eff-13a3-e055-000000000001 | Borris-In-Ossory-Mountmellick, Laois |            247 | 5 - 11 years | %      |       0 |\n",
      "\n",
      "\n",
      "**Using valid SQLite, answer the following questions for the tables provided above**.\n",
      "-- What's the statistic code used for fully vaccinated?\n",
      "```sql\n",
      "\n"
     ]
    }
   ],
   "source": [
    "connection = connect_func('../data/example-data/example-covid-vaccinations.sqlite3')\n",
    "schemas = connection.format_schemas(add_examples=1)\n",
    "# query = sprompt.SQL_QUERY_PROMPT_TEMPLATE.format(question=question, db_schema=schemas, tables_hints=None)\n",
    "prompt = \"\"\"\n",
    "{schemas}\n",
    "**Using valid SQLite, answer the following questions for the tables provided above**.\n",
    "-- {question}\n",
    "```sql\n",
    "\"\"\"\n",
    "query = prompt.format(schemas=schemas, question=question)\n",
    "print(query)"
   ]
  },
  {
   "cell_type": "code",
   "execution_count": null,
   "id": "cf7b3797",
   "metadata": {},
   "outputs": [],
   "source": []
  }
 ],
 "metadata": {
  "kernelspec": {
   "display_name": "Python 3 (ipykernel)",
   "language": "python",
   "name": "python3"
  },
  "language_info": {
   "codemirror_mode": {
    "name": "ipython",
    "version": 3
   },
   "file_extension": ".py",
   "mimetype": "text/x-python",
   "name": "python",
   "nbconvert_exporter": "python",
   "pygments_lexer": "ipython3",
   "version": "3.9.18"
  }
 },
 "nbformat": 4,
 "nbformat_minor": 5
}
