{
 "cells": [
  {
   "cell_type": "code",
   "execution_count": null,
   "id": "cee5cb76",
   "metadata": {},
   "outputs": [],
   "source": [
    "!pip install torch transformers accelerate bitsandbytes scipy "
   ]
  },
  {
   "cell_type": "code",
   "execution_count": 1,
   "id": "ba01ef1f",
   "metadata": {},
   "outputs": [
    {
     "data": {
      "text/plain": [
       "True"
      ]
     },
     "execution_count": 1,
     "metadata": {},
     "output_type": "execute_result"
    }
   ],
   "source": [
    "import torch\n",
    "torch.cuda.is_available()"
   ]
  },
  {
   "cell_type": "code",
   "execution_count": 2,
   "id": "0df13b7b",
   "metadata": {},
   "outputs": [],
   "source": [
    "from transformers import AutoTokenizer, AutoModelForCausalLM, pipeline\n",
    "from typing import List\n",
    "import sqlite3"
   ]
  },
  {
   "cell_type": "markdown",
   "id": "e61c60f9",
   "metadata": {},
   "source": [
    "# Load the model\n",
    "\n",
    "Set parameter load_in_4bit=True for a model size of 12GB, otherwise the model will be too big. \n",
    "If you work on A100 machine, parameter torch_dtype=torch.bfloat16 can be set to True instead.\n",
    "\n",
    "Can read more here: https://huggingface.co/blog/4bit-transformers-bitsandbytes"
   ]
  },
  {
   "cell_type": "code",
   "execution_count": 3,
   "id": "de47a1f8",
   "metadata": {},
   "outputs": [
    {
     "data": {
      "application/vnd.jupyter.widget-view+json": {
       "model_id": "c10a425d2b1c42b08768f072386901aa",
       "version_major": 2,
       "version_minor": 0
      },
      "text/plain": [
       "Loading checkpoint shards:   0%|          | 0/4 [00:00<?, ?it/s]"
      ]
     },
     "metadata": {},
     "output_type": "display_data"
    }
   ],
   "source": [
    "model_name = \"defog/sqlcoder\"\n",
    "tokenizer = AutoTokenizer.from_pretrained(model_name)\n",
    "model = AutoModelForCausalLM.from_pretrained(\n",
    "    model_name,\n",
    "    trust_remote_code=True,\n",
    "    # torch_dtype=torch.bfloat16,\n",
    "    # load_in_8bit=True,\n",
    "    load_in_4bit=True,\n",
    "    device_map=\"auto\",\n",
    "    use_cache=True,\n",
    ")"
   ]
  },
  {
   "cell_type": "markdown",
   "id": "8fc5d182",
   "metadata": {},
   "source": [
    "# Main functions required by the Huawei organisers"
   ]
  },
  {
   "cell_type": "markdown",
   "id": "599c65c8",
   "metadata": {},
   "source": [
    "### Build a Prompt template to get an SQL query "
   ]
  },
  {
   "cell_type": "code",
   "execution_count": 4,
   "id": "503f023c",
   "metadata": {},
   "outputs": [],
   "source": [
    "SQL_QUERY_PROMPT_TEMPLATE = \"\"\"### Instructions:\n",
    "Your task is to convert a question into a SQL query, given a SQLlite database schema.\n",
    "Adhere to these rules:\n",
    "- **Deliberately go through the question and database schema word by word** to appropriately answer the question\n",
    "- **Use Table Aliases** to prevent ambiguity. For example, `SELECT table1.col1, table2.col1 FROM table1 JOIN table2 ON table1.id = table2.id`.\n",
    "- When creating a ratio, always cast the numerator as float\n",
    "### Input:\n",
    "Generate a SQL query that answers the question `{question}`.\n",
    "This query will run on a database whose schema is represented in this string:\n",
    "{db_schema}\n",
    "\n",
    "### Response:\n",
    "Based on your instructions, here is the SQL query I have generated to answer the question `{question}`:\n",
    "```sql\n",
    "\"\"\""
   ]
  },
  {
   "cell_type": "code",
   "execution_count": 5,
   "id": "b2759502",
   "metadata": {},
   "outputs": [],
   "source": [
    "def generate_sql_query_generation_prompt(question, db_schema):\n",
    "    return SQL_QUERY_PROMPT_TEMPLATE.format(question=question, db_schema=db_schema)"
   ]
  },
  {
   "cell_type": "markdown",
   "id": "de1a5384",
   "metadata": {},
   "source": [
    "### Build a Prompt template to generate an answer based on the schema"
   ]
  },
  {
   "cell_type": "code",
   "execution_count": 6,
   "id": "6a1b3a88",
   "metadata": {},
   "outputs": [],
   "source": [
    "ANSWER_GENERATION_PROMPT_TEMPLATE = \"\"\"### Instructions:\n",
    "Your task is to convert a returned schema into an answer to the question:\n",
    "\n",
    "### Input:\n",
    "Generate an answer to the `{question}` based on the schema.\n",
    "This query will run on a database whose schema is represented in this string:\n",
    "{returned_schema}\n",
    "\n",
    "Your answer should be short, concise and straight to the point.\n",
    "\n",
    "### Response with the following format:\n",
    "Based on your question and the returned schema, here is the answer I have generated to answer the question `{question}`:\n",
    "\"\"\""
   ]
  },
  {
   "cell_type": "code",
   "execution_count": 7,
   "id": "8fdb45c8",
   "metadata": {},
   "outputs": [],
   "source": [
    "def generate_answer_generation_prompt(question, returned_schema):\n",
    "    return ANSWER_GENERATION_PROMPT_TEMPLATE.format(question=question, returned_schema=str(returned_schema))"
   ]
  },
  {
   "cell_type": "markdown",
   "id": "b186d9c6",
   "metadata": {},
   "source": [
    "### Function to connect to database and return a connection object"
   ]
  },
  {
   "cell_type": "code",
   "execution_count": 8,
   "id": "5dfcd5e6",
   "metadata": {},
   "outputs": [],
   "source": [
    "def connect_fun(database_name: str) -> sqlite3.Connection:\n",
    "    \"\"\"\n",
    "    Connect to an SQLite database and return a connection object.\n",
    "\n",
    "    Parameters:\n",
    "        database_name (str): The name (or path) of the SQLite database file to connect to.\n",
    "\n",
    "    Returns:\n",
    "        sqlite3.Connection or None: A connection object if the connection is successful,\n",
    "        or None if there is an error.\n",
    "\n",
    "    Example usage:\n",
    "        db_name = 'your_database_name.db'\n",
    "        connection = connect_fun(db_name)\n",
    "        \n",
    "        if connection:\n",
    "            print(f\"Connected to {db_name}\")\n",
    "            # You can now use 'connection' to interact with the database.\n",
    "        else:\n",
    "            print(\"Connection failed.\")\n",
    "    \"\"\"\n",
    "    try:\n",
    "        connection = sqlite3.connect(database_name)\n",
    "        return connection\n",
    "    except sqlite3.Error as e:\n",
    "        print(f\"Error connecting to the database: {e}\")\n",
    "        return None"
   ]
  },
  {
   "cell_type": "markdown",
   "id": "47a2946c",
   "metadata": {},
   "source": [
    "### Function to query a database and return an answer based on the context return from the SQL query\n",
    "\n",
    "Example: \n",
    "\n",
    "    Question: What is the months with the highest sales in the year? \n",
    "    Answer:   The highest sales happened in November, December and January \n",
    "    Prompt flow: \n",
    "        Question (str) -> **LLM SQL query model** -> SQL query -> returned schema -> **LLM to generate answer with context based on returned schema**"
   ]
  },
  {
   "cell_type": "code",
   "execution_count": 10,
   "id": "b049b63c",
   "metadata": {},
   "outputs": [],
   "source": [
    "def generate_sql_query(question: str, db_schema: str, tables_hints: List[str]) -> str:\n",
    "    # Implement logic to generate an SQL query based on the question and table hints.\n",
    "    # Replace the \"pass\" with a calling function to LLM\n",
    "    \n",
    "    # Handle the case when table hints are empty or invalid.\n",
    "    if not tables_hints:\n",
    "        # Default behavior: Query all tables\n",
    "        pass\n",
    "    \n",
    "    # Handle the general case\n",
    "    # Example: \"SELECT COUNT(*) FROM customers\"\n",
    "    prompt = generate_sql_query_generation_prompt(question, db_schema)\n",
    "    eos_token_id = tokenizer.convert_tokens_to_ids([\"```\"])[0]\n",
    "    inputs = tokenizer(prompt, return_tensors=\"pt\").to(\"cuda\") # or to(\"cpu\")\n",
    "    generated_ids = model.generate(\n",
    "        **inputs,\n",
    "        num_return_sequences=1,\n",
    "        eos_token_id=eos_token_id,\n",
    "        pad_token_id=eos_token_id,\n",
    "        max_new_tokens=400,\n",
    "        do_sample=False,\n",
    "        num_beams=5\n",
    "    )\n",
    "    \n",
    "    outputs = tokenizer.batch_decode(generated_ids, skip_special_tokens=True)\n",
    "    sql_query = outputs[0].split(\"```sql\")[-1].split(\"```\")[0].split(\";\")[0].strip() + \";\"\n",
    "    torch.cuda.empty_cache()\n",
    "    torch.cuda.synchronize()\n",
    "    \n",
    "    return sql_query\n"
   ]
  },
  {
   "cell_type": "code",
   "execution_count": 11,
   "id": "81e1a7e8",
   "metadata": {},
   "outputs": [],
   "source": [
    "def generate_answer_with_context(question: str, schema: List[str]) -> str:\n",
    "    answer_generation_prompt = generate_answer_generation_prompt(question, schema)\n",
    "    \n",
    "    ### Use the same procedure\n",
    "    eos_token_id = tokenizer.convert_tokens_to_ids([\"```\"])[0]\n",
    "    inputs = tokenizer(prompt, return_tensors=\"pt\").to(\"cuda\") # or to(\"cpu\")\n",
    "    generated_ids = model.generate(\n",
    "        **inputs,\n",
    "        num_return_sequences=1,\n",
    "        eos_token_id=eos_token_id,\n",
    "        pad_token_id=eos_token_id,\n",
    "        max_new_tokens=400,\n",
    "        do_sample=False,\n",
    "        num_beams=5\n",
    "    )\n",
    "    \n",
    "    asnwer = tokenizer.batch_decode(generated_ids, skip_special_tokens=True)\n",
    "    torch.cuda.empty_cache()\n",
    "    torch.cuda.synchronize()\n",
    "    \n",
    "    return answer\n",
    "    \n",
    "    "
   ]
  },
  {
   "cell_type": "markdown",
   "id": "af224590",
   "metadata": {},
   "source": [
    "### Combine all functions together"
   ]
  },
  {
   "cell_type": "code",
   "execution_count": 12,
   "id": "05315824",
   "metadata": {},
   "outputs": [],
   "source": [
    "def query_fun(question: str, tables_hints: List[str], conn: sqlite3.Connection) -> str:\n",
    "    \"\"\"\n",
    "    Generate an answer to a question based on an SQLite database and question context.\n",
    "\n",
    "    Parameters:\n",
    "        question (str): The user's question.\n",
    "        tables_hints (List[str]): List of table names to consider in the query.\n",
    "        conn (sqlite3.Connection): A connection to the SQLite database.\n",
    "\n",
    "    Returns:\n",
    "        str: The answer to the question.\n",
    "\n",
    "    Example usage:\n",
    "        question = \"How many customers are there in the database?\"\n",
    "        table_hints = [\"customers\"]\n",
    "        connection = sqlite3.connect(\"your_database.db\")\n",
    "        answer = query_fun(question, table_hints, connection)\n",
    "        print(answer)\n",
    "    \"\"\"\n",
    "    try:\n",
    "        # Step 1: Generate an SQL query based on the question and table hints.\n",
    "        sql_query = generate_sql_query(question, tables_hints)\n",
    "\n",
    "        # Step 2: Execute the SQL query and fetch the results.\n",
    "        cursor = conn.cursor()\n",
    "        cursor.execute(sql_query)\n",
    "\n",
    "        # Step 3: Obtain the schema information (column names) from the cursor description.\n",
    "        schema = [desc[0] for desc in cursor.description]\n",
    "\n",
    "        # Step 4: Process the query result and generate an answer with context using LLM.\n",
    "        answer = generate_answer_with_context(question, schema)\n",
    "\n",
    "        return answer\n",
    "\n",
    "    except sqlite3.Error as e:\n",
    "        print(f\"SQLite Error: {e}\")\n",
    "        return \"An error occurred while processing the query.\"\n",
    "    except Exception as e:\n",
    "        print(f\"Error: {e}\")\n",
    "        return \"An error occurred.\""
   ]
  },
  {
   "cell_type": "markdown",
   "id": "dcf6811e",
   "metadata": {},
   "source": [
    "# Now test the solution"
   ]
  },
  {
   "cell_type": "markdown",
   "id": "f4d50d8d",
   "metadata": {},
   "source": [
    "### Test the function with sales db and question"
   ]
  },
  {
   "cell_type": "code",
   "execution_count": 13,
   "id": "425672c3",
   "metadata": {},
   "outputs": [],
   "source": [
    "sales_db_schema = \"\"\"\n",
    "CREATE TABLE products (\n",
    "  product_id INTEGER PRIMARY KEY, -- Unique ID for each product\n",
    "  name VARCHAR(50), -- Name of the product\n",
    "  price DECIMAL(10,2), -- Price of each unit of the product\n",
    "  quantity INTEGER  -- Current quantity in stock\n",
    ");\n",
    "\n",
    "CREATE TABLE customers (\n",
    "   customer_id INTEGER PRIMARY KEY, -- Unique ID for each customer\n",
    "   name VARCHAR(50), -- Name of the customer\n",
    "   address VARCHAR(100) -- Mailing address of the customer\n",
    ");\n",
    "\n",
    "CREATE TABLE salespeople (\n",
    "  salesperson_id INTEGER PRIMARY KEY, -- Unique ID for each salesperson\n",
    "  name VARCHAR(50), -- Name of the salesperson\n",
    "  region VARCHAR(50) -- Geographic sales region\n",
    ");\n",
    "\n",
    "CREATE TABLE sales (\n",
    "  sale_id INTEGER PRIMARY KEY, -- Unique ID for each sale\n",
    "  product_id INTEGER, -- ID of product sold\n",
    "  customer_id INTEGER,  -- ID of customer who made purchase\n",
    "  salesperson_id INTEGER, -- ID of salesperson who made the sale\n",
    "  sale_date DATE, -- Date the sale occurred\n",
    "  quantity INTEGER -- Quantity of product sold\n",
    ");\n",
    "\n",
    "CREATE TABLE product_suppliers (\n",
    "  supplier_id INTEGER PRIMARY KEY, -- Unique ID for each supplier\n",
    "  product_id INTEGER, -- Product ID supplied\n",
    "  supply_price DECIMAL(10,2) -- Unit price charged by supplier\n",
    ");\n",
    "\n",
    "-- sales.product_id can be joined with products.product_id\n",
    "-- sales.customer_id can be joined with customers.customer_id\n",
    "-- sales.salesperson_id can be joined with salespeople.salesperson_id\n",
    "-- product_suppliers.product_id can be joined with products.product_id\n",
    "\"\"\""
   ]
  },
  {
   "cell_type": "code",
   "execution_count": 14,
   "id": "df0cef42",
   "metadata": {},
   "outputs": [],
   "source": [
    "question = \"What product has the biggest fall in sales in 2022 compared to 2021? \\\n",
    "            Give me the product name, the sales amount in both years, and the difference.\""
   ]
  },
  {
   "cell_type": "code",
   "execution_count": 16,
   "id": "806ddd41",
   "metadata": {},
   "outputs": [
    {
     "name": "stdout",
     "output_type": "stream",
     "text": [
      "WITH sales_2021 AS (\n",
      "  SELECT sales.product_id,\n",
      "         sum(sales.quantity) AS sales_2021\n",
      "  FROM   sales\n",
      "  WHERE  sales.sale_date >= '2021-01-01'\n",
      "     AND sales.sale_date <= '2021-12-31'\n",
      "  GROUP BY sales.product_id\n",
      "), sales_2022 AS (\n",
      "  SELECT sales.product_id,\n",
      "         sum(sales.quantity) AS sales_2022\n",
      "  FROM   sales\n",
      "  WHERE  sales.sale_date >= '2022-01-01'\n",
      "     AND sales.sale_date <= '2022-12-31'\n",
      "  GROUP BY sales.product_id\n",
      ")\n",
      "SELECT products.name,\n",
      "       sales_2021.sales_2021,\n",
      "       sales_2022.sales_2022,\n",
      "       sales_2022.sales_2022 - sales_2021.sales_2021 AS difference\n",
      "FROM   products\n",
      "    LEFT JOIN sales_2021 ON products.product_id = sales_2021.product_id\n",
      "    LEFT JOIN sales_2022 ON products.product_id = sales_2022.product_id\n",
      "ORDER BY difference DESC\n",
      "LIMIT 1;\n"
     ]
    }
   ],
   "source": [
    "print(generate_sql_query(question=question, db_schema=sales_db_schema, tables_hints=None))"
   ]
  },
  {
   "cell_type": "code",
   "execution_count": 17,
   "id": "c4c29897",
   "metadata": {},
   "outputs": [],
   "source": [
    "question = \"What is the highest sales of three salesman person? Give me the salesperson's name and his or her total sales\""
   ]
  },
  {
   "cell_type": "code",
   "execution_count": 18,
   "id": "cbd1cc69",
   "metadata": {},
   "outputs": [
    {
     "name": "stdout",
     "output_type": "stream",
     "text": [
      "SELECT salespeople.name,\n",
      "       sum(sales.quantity) as total_sales\n",
      "FROM   salespeople join sales on salespeople.salesperson_id = sales.salesperson_id\n",
      "GROUP BY salespeople.name\n",
      "ORDER BY total_sales desc\n",
      "LIMIT 3;\n"
     ]
    }
   ],
   "source": [
    "print(generate_sql_query(question=question, db_schema=sales_db_schema, tables_hints=None))"
   ]
  },
  {
   "cell_type": "markdown",
   "id": "156b4cf1",
   "metadata": {},
   "source": [
    "### Get a dummy database\n",
    "\n",
    "![DB Image](./imgs/chinook-er-diagram.png)"
   ]
  },
  {
   "cell_type": "code",
   "execution_count": null,
   "id": "c7617021",
   "metadata": {},
   "outputs": [],
   "source": [
    "import sqlite3\n",
    "import pandas as pd\n",
    "# Define the SQLite database file name.\n",
    "db_file = \"./sample_db/Chinook_Sqlite.sqlite\"\n",
    "\n",
    "# Connect to the SQLite database.\n",
    "## creating a connection\n",
    "conn = sqlite3.connect(db_file)\n",
    "\n",
    "## importing tables \n",
    "tables = pd.read_sql(\"\"\"SELECT *\n",
    "                        FROM sqlite_master\n",
    "                        WHERE type='table';\"\"\", conn)\n",
    "\n",
    "tables"
   ]
  },
  {
   "cell_type": "code",
   "execution_count": null,
   "id": "1ecfee6b",
   "metadata": {},
   "outputs": [],
   "source": [
    "chinook_db_schema =\"\"\"\n",
    "CREATE TABLE [Album]\n",
    "(\n",
    "    [AlbumId] INTEGER  NOT NULL,\n",
    "    [Title] NVARCHAR(160)  NOT NULL,\n",
    "    [ArtistId] INTEGER  NOT NULL,\n",
    "    CONSTRAINT [PK_Album] PRIMARY KEY  ([AlbumId]),\n",
    "    FOREIGN KEY ([ArtistId]) REFERENCES [Artist] ([ArtistId]) \n",
    "\t\tON DELETE NO ACTION ON UPDATE NO ACTION\n",
    ")\n",
    "CREATE TABLE [Artist]\n",
    "(\n",
    "    [ArtistId] INTEGER  NOT NULL,\n",
    "    [Name] NVARCHAR(120),\n",
    "    CONSTRAINT [PK_Artist] PRIMARY KEY  ([ArtistId])\n",
    ")\n",
    "CREATE TABLE [Customer]\n",
    "(\n",
    "    [CustomerId] INTEGER  NOT NULL,\n",
    "    [FirstName] NVARCHAR(40)  NOT NULL,\n",
    "    [LastName] NVARCHAR(20)  NOT NULL,\n",
    "    [Company] NVARCHAR(80),\n",
    "    [Address] NVARCHAR(70),\n",
    "    [City] NVARCHAR(40),\n",
    "    [State] NVARCHAR(40),\n",
    "    [Country] NVARCHAR(40),\n",
    "    [PostalCode] NVARCHAR(10),\n",
    "    [Phone] NVARCHAR(24),\n",
    "    [Fax] NVARCHAR(24),\n",
    "    [Email] NVARCHAR(60)  NOT NULL,\n",
    "    [SupportRepId] INTEGER,\n",
    "    CONSTRAINT [PK_Customer] PRIMARY KEY  ([CustomerId]),\n",
    "    FOREIGN KEY ([SupportRepId]) REFERENCES [Employee] ([EmployeeId]) \n",
    "\t\tON DELETE NO ACTION ON UPDATE NO ACTION\n",
    ")\n",
    "CREATE TABLE [Employee]\n",
    "(\n",
    "    [EmployeeId] INTEGER  NOT NULL,\n",
    "    [LastName] NVARCHAR(20)  NOT NULL,\n",
    "    [FirstName] NVARCHAR(20)  NOT NULL,\n",
    "    [Title] NVARCHAR(30),\n",
    "    [ReportsTo] INTEGER,\n",
    "    [BirthDate] DATETIME,\n",
    "    [HireDate] DATETIME,\n",
    "    [Address] NVARCHAR(70),\n",
    "    [City] NVARCHAR(40),\n",
    "    [State] NVARCHAR(40),\n",
    "    [Country] NVARCHAR(40),\n",
    "    [PostalCode] NVARCHAR(10),\n",
    "    [Phone] NVARCHAR(24),\n",
    "    [Fax] NVARCHAR(24),\n",
    "    [Email] NVARCHAR(60),\n",
    "    CONSTRAINT [PK_Employee] PRIMARY KEY  ([EmployeeId]),\n",
    "    FOREIGN KEY ([ReportsTo]) REFERENCES [Employee] ([EmployeeId]) \n",
    "\t\tON DELETE NO ACTION ON UPDATE NO ACTION\n",
    ")\n",
    "CREATE TABLE [Genre]\n",
    "(\n",
    "    [GenreId] INTEGER  NOT NULL,\n",
    "    [Name] NVARCHAR(120),\n",
    "    CONSTRAINT [PK_Genre] PRIMARY KEY  ([GenreId])\n",
    ")\n",
    "CREATE TABLE [Invoice]\n",
    "(\n",
    "    [InvoiceId] INTEGER  NOT NULL,\n",
    "    [CustomerId] INTEGER  NOT NULL,\n",
    "    [InvoiceDate] DATETIME  NOT NULL,\n",
    "    [BillingAddress] NVARCHAR(70),\n",
    "    [BillingCity] NVARCHAR(40),\n",
    "    [BillingState] NVARCHAR(40),\n",
    "    [BillingCountry] NVARCHAR(40),\n",
    "    [BillingPostalCode] NVARCHAR(10),\n",
    "    [Total] NUMERIC(10,2)  NOT NULL,\n",
    "    CONSTRAINT [PK_Invoice] PRIMARY KEY  ([InvoiceId]),\n",
    "    FOREIGN KEY ([CustomerId]) REFERENCES [Customer] ([CustomerId]) \n",
    "\t\tON DELETE NO ACTION ON UPDATE NO ACTION\n",
    ")\n",
    "CREATE TABLE [InvoiceLine]\n",
    "(\n",
    "    [InvoiceLineId] INTEGER  NOT NULL,\n",
    "    [InvoiceId] INTEGER  NOT NULL,\n",
    "    [TrackId] INTEGER  NOT NULL,\n",
    "    [UnitPrice] NUMERIC(10,2)  NOT NULL,\n",
    "    [Quantity] INTEGER  NOT NULL,\n",
    "    CONSTRAINT [PK_InvoiceLine] PRIMARY KEY  ([InvoiceLineId]),\n",
    "    FOREIGN KEY ([InvoiceId]) REFERENCES [Invoice] ([InvoiceId]) \n",
    "\t\tON DELETE NO ACTION ON UPDATE NO ACTION,\n",
    "    FOREIGN KEY ([TrackId]) REFERENCES [Track] ([TrackId]) \n",
    "\t\tON DELETE NO ACTION ON UPDATE NO ACTION\n",
    ")\n",
    "CREATE TABLE [MediaType]\n",
    "(\n",
    "    [MediaTypeId] INTEGER  NOT NULL,\n",
    "    [Name] NVARCHAR(120),\n",
    "    CONSTRAINT [PK_MediaType] PRIMARY KEY  ([MediaTypeId])\n",
    ")\n",
    "CREATE TABLE [Playlist]\n",
    "(\n",
    "    [PlaylistId] INTEGER  NOT NULL,\n",
    "    [Name] NVARCHAR(120),\n",
    "    CONSTRAINT [PK_Playlist] PRIMARY KEY  ([PlaylistId])\n",
    ")\n",
    "CREATE TABLE [PlaylistTrack]\n",
    "(\n",
    "    [PlaylistId] INTEGER  NOT NULL,\n",
    "    [TrackId] INTEGER  NOT NULL,\n",
    "    CONSTRAINT [PK_PlaylistTrack] PRIMARY KEY  ([PlaylistId], [TrackId]),\n",
    "    FOREIGN KEY ([PlaylistId]) REFERENCES [Playlist] ([PlaylistId]) \n",
    "\t\tON DELETE NO ACTION ON UPDATE NO ACTION,\n",
    "    FOREIGN KEY ([TrackId]) REFERENCES [Track] ([TrackId]) \n",
    "\t\tON DELETE NO ACTION ON UPDATE NO ACTION\n",
    ")\n",
    "CREATE TABLE [Track]\n",
    "(\n",
    "    [TrackId] INTEGER  NOT NULL,\n",
    "    [Name] NVARCHAR(200)  NOT NULL,\n",
    "    [AlbumId] INTEGER,\n",
    "    [MediaTypeId] INTEGER  NOT NULL,\n",
    "    [GenreId] INTEGER,\n",
    "    [Composer] NVARCHAR(220),\n",
    "    [Milliseconds] INTEGER  NOT NULL,\n",
    "    [Bytes] INTEGER,\n",
    "    [UnitPrice] NUMERIC(10,2)  NOT NULL,\n",
    "    CONSTRAINT [PK_Track] PRIMARY KEY  ([TrackId]),\n",
    "    FOREIGN KEY ([AlbumId]) REFERENCES [Album] ([AlbumId]) \n",
    "\t\tON DELETE NO ACTION ON UPDATE NO ACTION,\n",
    "    FOREIGN KEY ([GenreId]) REFERENCES [Genre] ([GenreId]) \n",
    "\t\tON DELETE NO ACTION ON UPDATE NO ACTION,\n",
    "    FOREIGN KEY ([MediaTypeId]) REFERENCES [MediaType] ([MediaTypeId]) \n",
    "\t\tON DELETE NO ACTION ON UPDATE NO ACTION\n",
    ")\n",
    "\"\"\" "
   ]
  }
 ],
 "metadata": {
  "kernelspec": {
   "display_name": "Python 3 (ipykernel)",
   "language": "python",
   "name": "python3"
  },
  "language_info": {
   "codemirror_mode": {
    "name": "ipython",
    "version": 3
   },
   "file_extension": ".py",
   "mimetype": "text/x-python",
   "name": "python",
   "nbconvert_exporter": "python",
   "pygments_lexer": "ipython3",
   "version": "3.9.18"
  }
 },
 "nbformat": 4,
 "nbformat_minor": 5
}
