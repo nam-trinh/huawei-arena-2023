{
 "cells": [
  {
   "cell_type": "code",
   "execution_count": 1,
   "id": "049d0135-b820-437d-afb0-85ce3c25144a",
   "metadata": {},
   "outputs": [
    {
     "name": "stdout",
     "output_type": "stream",
     "text": [
      "Tue Sep 19 14:27:39 2023       \n",
      "+-----------------------------------------------------------------------------+\n",
      "| NVIDIA-SMI 465.19.01    Driver Version: 465.19.01    CUDA Version: 11.3     |\n",
      "|-------------------------------+----------------------+----------------------+\n",
      "| GPU  Name        Persistence-M| Bus-Id        Disp.A | Volatile Uncorr. ECC |\n",
      "| Fan  Temp  Perf  Pwr:Usage/Cap|         Memory-Usage | GPU-Util  Compute M. |\n",
      "|                               |                      |               MIG M. |\n",
      "|===============================+======================+======================|\n",
      "|   0  NVIDIA RTX A6000    On   | 00000000:4F:00.0 Off |                  Off |\n",
      "| 30%   25C    P8    18W / 300W |      1MiB / 48685MiB |      0%      Default |\n",
      "|                               |                      |                  N/A |\n",
      "+-------------------------------+----------------------+----------------------+\n",
      "                                                                               \n",
      "+-----------------------------------------------------------------------------+\n",
      "| Processes:                                                                  |\n",
      "|  GPU   GI   CI        PID   Type   Process name                  GPU Memory |\n",
      "|        ID   ID                                                   Usage      |\n",
      "|=============================================================================|\n",
      "|  No running processes found                                                 |\n",
      "+-----------------------------------------------------------------------------+\n"
     ]
    }
   ],
   "source": [
    "!nvidia-smi"
   ]
  },
  {
   "cell_type": "code",
   "execution_count": 2,
   "id": "4d5b4861-4a36-4de2-a8a5-e75dab89bbf4",
   "metadata": {},
   "outputs": [],
   "source": [
    "import sqlite3\n",
    "from typing import *\n",
    "from infection.database import get_schemas\n",
    "from infection.models import get_model\n",
    "from infection.postprocess import format_sql_execution\n",
    "from infection.prompt import (SQL_QUERY_PROMPT_TEMPLATE, ANSWER_GENERATION_PROMPT_TEMPLATE, generate_prompt)\n",
    "\n",
    "def get_model_response(model, prompt_template:str, **kwargs):\n",
    "    prompt = generate_prompt(prompt_template, **kwargs)\n",
    "    outputs = model.generate(prompt, num_beams=1)\n",
    "    result = outputs[0].split(\"```sql\")[-1].split(\"```\")[0].split(\";\")[0].strip() + \";\"\n",
    "    return result"
   ]
  },
  {
   "cell_type": "code",
   "execution_count": 3,
   "id": "96b782f6-8854-43d2-9b9a-a31c162b8bf2",
   "metadata": {
    "scrolled": true
   },
   "outputs": [
    {
     "data": {
      "application/vnd.jupyter.widget-view+json": {
       "model_id": "8725b1a321494884b66783fa303ee052",
       "version_major": 2,
       "version_minor": 0
      },
      "text/plain": [
       "Loading checkpoint shards:   0%|          | 0/4 [00:00<?, ?it/s]"
      ]
     },
     "metadata": {},
     "output_type": "display_data"
    }
   ],
   "source": [
    "sql_model = get_model('sqlcoder', cache_dir='/home/mpham/workspace/huawei-arena-2023/.cache', load_in_4bit=True)\n",
    "answer_model = sql_model"
   ]
  },
  {
   "cell_type": "code",
   "execution_count": 4,
   "id": "33ee4649-f312-4010-ab18-5fed11c22300",
   "metadata": {},
   "outputs": [],
   "source": [
    "def connect_fun(database_name: str) -> sqlite3.Connection:\n",
    "    \"\"\"\n",
    "    Connect to an SQLite database and return a connection object.\n",
    "\n",
    "    Parameters:\n",
    "        database_name (str): The name (or path) of the SQLite database file to connect to.\n",
    "\n",
    "    Returns:\n",
    "        sqlite3.Connection or None: A connection object if the connection is successful,\n",
    "        or None if there is an error.\n",
    "\n",
    "    Example usage:\n",
    "        db_name = 'your_database_name.db'\n",
    "        connection = connect_fun(db_name)\n",
    "        \n",
    "        if connection:\n",
    "            print(f\"Connected to {db_name}\")\n",
    "            # You can now use 'connection' to interact with the database.\n",
    "        else:\n",
    "            print(\"Connection failed.\")\n",
    "    \"\"\"\n",
    "    try:\n",
    "        connection = sqlite3.connect(database_name)\n",
    "        return connection\n",
    "    except sqlite3.Error as e:\n",
    "        print(f\"Error connecting to the database: {e}\")\n",
    "        return None\n",
    "\n",
    "\n",
    "def query_fun(question: str, conn: sqlite3.Connection, tables_hints: List[str]=None, debug:bool=False) -> str:\n",
    "    \"\"\"\n",
    "    Generate an answer to a question based on an SQLite database and question context.\n",
    "\n",
    "    Parameters:\n",
    "        question (str): The user's question.\n",
    "        tables_hints (List[str]): List of table names to consider in the query.\n",
    "        conn (sqlite3.Connection): A connection to the SQLite database.\n",
    "\n",
    "    Returns:\n",
    "        str: The answer to the question.\n",
    "\n",
    "    Example usage:\n",
    "        question = \"How many customers are there in the database?\"\n",
    "        table_hints = [\"customers\"]\n",
    "        connection = sqlite3.connect(\"your_database.db\")\n",
    "        answer = query_fun(question, table_hints, connection)\n",
    "        print(answer)\n",
    "    \"\"\"\n",
    "    try:\n",
    "        cursor = conn.cursor()\n",
    "\n",
    "        # Step 0: Get related tables based on all schemas and table hints\n",
    "        related_schemas = get_schemas(cursor, tables_hints) \n",
    "\n",
    "        if debug:\n",
    "            print(\"Related schemas: \\n\", related_schemas)\n",
    "            print('-'*30)\n",
    "        \n",
    "        # Step 1: Generate an SQL query based on the question and table hints.\n",
    "        sql_query = get_model_response(\n",
    "            sql_model, SQL_QUERY_PROMPT_TEMPLATE, \n",
    "            question=question, \n",
    "            db_schema=related_schemas, \n",
    "            tables_hints=tables_hints\n",
    "        )\n",
    "\n",
    "        if debug:\n",
    "            print(\"SQL query: \\n\", sql_query)\n",
    "            print('-'*30)\n",
    "\n",
    "        # Step 2: Execute the SQL query and fetch the results.\n",
    "        response = cursor.execute(sql_query)\n",
    "\n",
    "        # Step 3: Obtain records from response and schema information (column names) from the cursor description.\n",
    "        records = response.fetchall()\n",
    "        reponse_schema = [desc[0] for desc in cursor.description]\n",
    "        sql_response = format_sql_execution(records, reponse_schema)\n",
    "\n",
    "        if debug:\n",
    "            print(\"SQL execution response: \\n\", sql_response)\n",
    "            print('-'*30)\n",
    "\n",
    "        # Step 4: Process the query result and generate an answer with context using LLM.\n",
    "        answer = get_model_response(\n",
    "            answer_model, ANSWER_GENERATION_PROMPT_TEMPLATE,\n",
    "            question=question, \n",
    "            returned_schema=sql_response\n",
    "        )\n",
    "\n",
    "        return sql_query, answer\n",
    "\n",
    "    except sqlite3.Error as e:\n",
    "        print(f\"SQLite Error: {e}\")\n",
    "        return \"An error occurred while processing the query.\"\n",
    "    except Exception as e:\n",
    "        print(f\"Error: {e}\")\n",
    "        return \"An error occurred.\""
   ]
  },
  {
   "cell_type": "code",
   "execution_count": 5,
   "id": "1825590e-b322-4b64-b80e-42a3b5521a8a",
   "metadata": {},
   "outputs": [],
   "source": [
    "connection = connect_fun('/home/mpham/workspace/huawei-arena-2023/data/chinook/Chinook_Sqlite.sqlite')"
   ]
  },
  {
   "cell_type": "code",
   "execution_count": 6,
   "id": "be571ac3-6fc8-4ac9-887f-4edd1a144784",
   "metadata": {},
   "outputs": [
    {
     "data": {
      "text/plain": [
       "{'Album': [(0, 'AlbumId', 'INTEGER', 1, None, 1),\n",
       "  (1, 'Title', 'NVARCHAR(160)', 1, None, 0),\n",
       "  (2, 'ArtistId', 'INTEGER', 1, None, 0)],\n",
       " 'Artist': [(0, 'ArtistId', 'INTEGER', 1, None, 1),\n",
       "  (1, 'Name', 'NVARCHAR(120)', 0, None, 0)],\n",
       " 'Customer': [(0, 'CustomerId', 'INTEGER', 1, None, 1),\n",
       "  (1, 'FirstName', 'NVARCHAR(40)', 1, None, 0),\n",
       "  (2, 'LastName', 'NVARCHAR(20)', 1, None, 0),\n",
       "  (3, 'Company', 'NVARCHAR(80)', 0, None, 0),\n",
       "  (4, 'Address', 'NVARCHAR(70)', 0, None, 0),\n",
       "  (5, 'City', 'NVARCHAR(40)', 0, None, 0),\n",
       "  (6, 'State', 'NVARCHAR(40)', 0, None, 0),\n",
       "  (7, 'Country', 'NVARCHAR(40)', 0, None, 0),\n",
       "  (8, 'PostalCode', 'NVARCHAR(10)', 0, None, 0),\n",
       "  (9, 'Phone', 'NVARCHAR(24)', 0, None, 0),\n",
       "  (10, 'Fax', 'NVARCHAR(24)', 0, None, 0),\n",
       "  (11, 'Email', 'NVARCHAR(60)', 1, None, 0),\n",
       "  (12, 'SupportRepId', 'INTEGER', 0, None, 0)],\n",
       " 'Employee': [(0, 'EmployeeId', 'INTEGER', 1, None, 1),\n",
       "  (1, 'LastName', 'NVARCHAR(20)', 1, None, 0),\n",
       "  (2, 'FirstName', 'NVARCHAR(20)', 1, None, 0),\n",
       "  (3, 'Title', 'NVARCHAR(30)', 0, None, 0),\n",
       "  (4, 'ReportsTo', 'INTEGER', 0, None, 0),\n",
       "  (5, 'BirthDate', 'DATETIME', 0, None, 0),\n",
       "  (6, 'HireDate', 'DATETIME', 0, None, 0),\n",
       "  (7, 'Address', 'NVARCHAR(70)', 0, None, 0),\n",
       "  (8, 'City', 'NVARCHAR(40)', 0, None, 0),\n",
       "  (9, 'State', 'NVARCHAR(40)', 0, None, 0),\n",
       "  (10, 'Country', 'NVARCHAR(40)', 0, None, 0),\n",
       "  (11, 'PostalCode', 'NVARCHAR(10)', 0, None, 0),\n",
       "  (12, 'Phone', 'NVARCHAR(24)', 0, None, 0),\n",
       "  (13, 'Fax', 'NVARCHAR(24)', 0, None, 0),\n",
       "  (14, 'Email', 'NVARCHAR(60)', 0, None, 0)],\n",
       " 'Genre': [(0, 'GenreId', 'INTEGER', 1, None, 1),\n",
       "  (1, 'Name', 'NVARCHAR(120)', 0, None, 0)],\n",
       " 'Invoice': [(0, 'InvoiceId', 'INTEGER', 1, None, 1),\n",
       "  (1, 'CustomerId', 'INTEGER', 1, None, 0),\n",
       "  (2, 'InvoiceDate', 'DATETIME', 1, None, 0),\n",
       "  (3, 'BillingAddress', 'NVARCHAR(70)', 0, None, 0),\n",
       "  (4, 'BillingCity', 'NVARCHAR(40)', 0, None, 0),\n",
       "  (5, 'BillingState', 'NVARCHAR(40)', 0, None, 0),\n",
       "  (6, 'BillingCountry', 'NVARCHAR(40)', 0, None, 0),\n",
       "  (7, 'BillingPostalCode', 'NVARCHAR(10)', 0, None, 0),\n",
       "  (8, 'Total', 'NUMERIC(10,2)', 1, None, 0)],\n",
       " 'InvoiceLine': [(0, 'InvoiceLineId', 'INTEGER', 1, None, 1),\n",
       "  (1, 'InvoiceId', 'INTEGER', 1, None, 0),\n",
       "  (2, 'TrackId', 'INTEGER', 1, None, 0),\n",
       "  (3, 'UnitPrice', 'NUMERIC(10,2)', 1, None, 0),\n",
       "  (4, 'Quantity', 'INTEGER', 1, None, 0)],\n",
       " 'MediaType': [(0, 'MediaTypeId', 'INTEGER', 1, None, 1),\n",
       "  (1, 'Name', 'NVARCHAR(120)', 0, None, 0)],\n",
       " 'Playlist': [(0, 'PlaylistId', 'INTEGER', 1, None, 1),\n",
       "  (1, 'Name', 'NVARCHAR(120)', 0, None, 0)],\n",
       " 'PlaylistTrack': [(0, 'PlaylistId', 'INTEGER', 1, None, 1),\n",
       "  (1, 'TrackId', 'INTEGER', 1, None, 2)],\n",
       " 'Track': [(0, 'TrackId', 'INTEGER', 1, None, 1),\n",
       "  (1, 'Name', 'NVARCHAR(200)', 1, None, 0),\n",
       "  (2, 'AlbumId', 'INTEGER', 0, None, 0),\n",
       "  (3, 'MediaTypeId', 'INTEGER', 1, None, 0),\n",
       "  (4, 'GenreId', 'INTEGER', 0, None, 0),\n",
       "  (5, 'Composer', 'NVARCHAR(220)', 0, None, 0),\n",
       "  (6, 'Milliseconds', 'INTEGER', 1, None, 0),\n",
       "  (7, 'Bytes', 'INTEGER', 0, None, 0),\n",
       "  (8, 'UnitPrice', 'NUMERIC(10,2)', 1, None, 0)]}"
      ]
     },
     "execution_count": 6,
     "metadata": {},
     "output_type": "execute_result"
    }
   ],
   "source": [
    "cursor = connection.cursor()\n",
    "related_schemas = get_schemas(cursor, table_hints=None)\n",
    "related_schemas"
   ]
  },
  {
   "cell_type": "code",
   "execution_count": 11,
   "id": "fb32e7b4-92ba-45d3-917d-da426412f4ac",
   "metadata": {},
   "outputs": [],
   "source": [
    "questions = [\n",
    "    # \"What is the highest sales of three salesman person? Give me the salesperson's name and his or her total sales\",\n",
    "    # \"In 1981 which team picked overall 148?\"\n",
    "\n",
    "    \"Find me 5 random song track names\",\n",
    "    \"What is the mean price of all the song tracks ?\",\n",
    "    \"How many employees are there ?\",\n",
    "    \"What is the nationality that has the most number of our customers ?\",\n",
    "]"
   ]
  },
  {
   "cell_type": "code",
   "execution_count": 15,
   "id": "65433f26-3bbf-4e6e-a48f-af54938a0c96",
   "metadata": {},
   "outputs": [
    {
     "name": "stdout",
     "output_type": "stream",
     "text": [
      "CPU times: user 4.38 s, sys: 1.43 s, total: 5.81 s\n",
      "Wall time: 5.84 s\n"
     ]
    }
   ],
   "source": [
    "%%time\n",
    "sql_command, text_response = query_fun(\n",
    "    question=questions[3],\n",
    "    conn=connection,\n",
    "    debug=False\n",
    ")"
   ]
  },
  {
   "cell_type": "code",
   "execution_count": 16,
   "id": "7a2ff4d8-2909-41af-ac43-41cb292e95e4",
   "metadata": {},
   "outputs": [
    {
     "name": "stdout",
     "output_type": "stream",
     "text": [
      "SELECT country\n",
      "  FROM customer\n",
      "  GROUP BY country\n",
      "  ORDER BY count(*) desc\n",
      "  limit 1;\n"
     ]
    }
   ],
   "source": [
    "print(sql_command)"
   ]
  },
  {
   "cell_type": "code",
   "execution_count": 17,
   "id": "b63760b5-132d-4f34-bac3-5f58a058c813",
   "metadata": {},
   "outputs": [
    {
     "name": "stdout",
     "output_type": "stream",
     "text": [
      "The most common nationality among our customers is USA. This is because our customers are mostly from the United States.;\n"
     ]
    }
   ],
   "source": [
    "print(text_response)"
   ]
  }
 ],
 "metadata": {
  "kernelspec": {
   "display_name": "Python 3 (ipykernel)",
   "language": "python",
   "name": "python3"
  },
  "language_info": {
   "codemirror_mode": {
    "name": "ipython",
    "version": 3
   },
   "file_extension": ".py",
   "mimetype": "text/x-python",
   "name": "python",
   "nbconvert_exporter": "python",
   "pygments_lexer": "ipython3",
   "version": "3.10.11"
  }
 },
 "nbformat": 4,
 "nbformat_minor": 5
}
