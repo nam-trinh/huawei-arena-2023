{
 "cells": [
  {
   "cell_type": "code",
   "execution_count": 2,
   "id": "049d0135-b820-437d-afb0-85ce3c25144a",
   "metadata": {},
   "outputs": [
    {
     "name": "stdout",
     "output_type": "stream",
     "text": [
      "Wed Sep 20 12:20:08 2023       \n",
      "+-----------------------------------------------------------------------------+\n",
      "| NVIDIA-SMI 465.19.01    Driver Version: 465.19.01    CUDA Version: 11.3     |\n",
      "|-------------------------------+----------------------+----------------------+\n",
      "| GPU  Name        Persistence-M| Bus-Id        Disp.A | Volatile Uncorr. ECC |\n",
      "| Fan  Temp  Perf  Pwr:Usage/Cap|         Memory-Usage | GPU-Util  Compute M. |\n",
      "|                               |                      |               MIG M. |\n",
      "|===============================+======================+======================|\n",
      "|   0  NVIDIA RTX A6000    On   | 00000000:4F:00.0 Off |                  Off |\n",
      "| 30%   25C    P8    18W / 300W |      1MiB / 48685MiB |      0%      Default |\n",
      "|                               |                      |                  N/A |\n",
      "+-------------------------------+----------------------+----------------------+\n",
      "                                                                               \n",
      "+-----------------------------------------------------------------------------+\n",
      "| Processes:                                                                  |\n",
      "|  GPU   GI   CI        PID   Type   Process name                  GPU Memory |\n",
      "|        ID   ID                                                   Usage      |\n",
      "|=============================================================================|\n",
      "|  No running processes found                                                 |\n",
      "+-----------------------------------------------------------------------------+\n"
     ]
    }
   ],
   "source": [
    "!nvidia-smi"
   ]
  },
  {
   "cell_type": "code",
   "execution_count": 3,
   "id": "4d5b4861-4a36-4de2-a8a5-e75dab89bbf4",
   "metadata": {},
   "outputs": [],
   "source": [
    "import sqlite3\n",
    "from typing import *\n",
    "from infection.database import format_schemas, format_sql_execution\n",
    "from infection.models import get_model\n",
    "from infection.prompt import (\n",
    "    SQL_QUERY_PROMPT_TEMPLATE, ANSWER_GENERATION_PROMPT_TEMPLATE, \n",
    "    generate_prompt,\n",
    "    CHART_GENERATION_PROMPT_TEMPLATE, SQL_SAFETY_PROMPT_TEMPLATE\n",
    ")\n",
    "from infection.explainability import plot_sql_chart\n",
    "\n",
    "def get_model_response(model, prompt_template:str, **kwargs):\n",
    "    prompt = generate_prompt(prompt_template, **kwargs)\n",
    "\n",
    "    num_beams = kwargs.pop('num_beams', 1)\n",
    "    outputs = model.generate(prompt, num_beams=num_beams)\n",
    "\n",
    "    catchphrase = kwargs.get('catchphrase',None)\n",
    "    if catchphrase is not None:\n",
    "        result = outputs.split(catchphrase)[-1].strip()\n",
    "    else:\n",
    "        result = outputs.strip()\n",
    "    return result"
   ]
  },
  {
   "cell_type": "code",
   "execution_count": 4,
   "id": "96b782f6-8854-43d2-9b9a-a31c162b8bf2",
   "metadata": {
    "scrolled": true
   },
   "outputs": [
    {
     "data": {
      "application/vnd.jupyter.widget-view+json": {
       "model_id": "ba88c0b0fb144e66a0e3796f01917616",
       "version_major": 2,
       "version_minor": 0
      },
      "text/plain": [
       "Loading checkpoint shards:   0%|          | 0/4 [00:00<?, ?it/s]"
      ]
     },
     "metadata": {},
     "output_type": "display_data"
    },
    {
     "name": "stderr",
     "output_type": "stream",
     "text": [
      "The BetterTransformer implementation does not support padding during training, as the fused kernels do not support attention masks. Beware that passing padded batched data during training may result in unexpected outputs. Please refer to https://huggingface.co/docs/optimum/bettertransformer/overview for more details.\n",
      "The argument `trust_remote_code` is to be used with Auto classes. It has no effect here and is ignored.\n"
     ]
    },
    {
     "data": {
      "application/vnd.jupyter.widget-view+json": {
       "model_id": "6c52b34492794602b2561869f539345f",
       "version_major": 2,
       "version_minor": 0
      },
      "text/plain": [
       "Loading checkpoint shards:   0%|          | 0/2 [00:00<?, ?it/s]"
      ]
     },
     "metadata": {},
     "output_type": "display_data"
    },
    {
     "name": "stderr",
     "output_type": "stream",
     "text": [
      "/home/mpham/mambaforge/envs/huawei/lib/python3.10/site-packages/transformers/utils/hub.py:374: FutureWarning: The `use_auth_token` argument is deprecated and will be removed in v5 of Transformers.\n",
      "  warnings.warn(\n",
      "The BetterTransformer implementation does not support padding during training, as the fused kernels do not support attention masks. Beware that passing padded batched data during training may result in unexpected outputs. Please refer to https://huggingface.co/docs/optimum/bettertransformer/overview for more details.\n"
     ]
    }
   ],
   "source": [
    "sql_model = get_model('sqlcoder', cache_dir='/home/mpham/workspace/huawei-arena-2023/.cache', load_in_4bit=True)\n",
    "answer_model = get_model('llama2', cache_dir='/home/mpham/workspace/huawei-arena-2023/.cache', load_in_4bit=True)"
   ]
  },
  {
   "cell_type": "code",
   "execution_count": 5,
   "id": "33ee4649-f312-4010-ab18-5fed11c22300",
   "metadata": {},
   "outputs": [],
   "source": [
    "def connect_fun(database_name: str) -> sqlite3.Connection:\n",
    "    \"\"\"\n",
    "    Connect to an SQLite database and return a connection object.\n",
    "\n",
    "    Parameters:\n",
    "        database_name (str): The name (or path) of the SQLite database file to connect to.\n",
    "\n",
    "    Returns:\n",
    "        sqlite3.Connection or None: A connection object if the connection is successful,\n",
    "        or None if there is an error.\n",
    "\n",
    "    Example usage:\n",
    "        db_name = 'your_database_name.db'\n",
    "        connection = connect_fun(db_name)\n",
    "        \n",
    "        if connection:\n",
    "            print(f\"Connected to {db_name}\")\n",
    "            # You can now use 'connection' to interact with the database.\n",
    "        else:\n",
    "            print(\"Connection failed.\")\n",
    "    \"\"\"\n",
    "    try:\n",
    "        connection = sqlite3.connect(database_name)\n",
    "        return connection\n",
    "    except sqlite3.Error as e:\n",
    "        print(f\"Error connecting to the database: {e}\")\n",
    "        return None\n",
    "\n",
    "\n",
    "def query_fun(question: str, conn: sqlite3.Connection, tables_hints: List[str]=None, debug:bool=False) -> str:\n",
    "    \"\"\"\n",
    "    Generate an answer to a question based on an SQLite database and question context.\n",
    "\n",
    "    Parameters:\n",
    "        question (str): The user's question.\n",
    "        tables_hints (List[str]): List of table names to consider in the query.\n",
    "        conn (sqlite3.Connection): A connection to the SQLite database.\n",
    "\n",
    "    Returns:\n",
    "        str: The answer to the question.\n",
    "\n",
    "    Example usage:\n",
    "        question = \"How many customers are there in the database?\"\n",
    "        table_hints = [\"customers\"]\n",
    "        connection = sqlite3.connect(\"your_database.db\")\n",
    "        answer = query_fun(question, table_hints, connection)\n",
    "        print(answer)\n",
    "    \"\"\"\n",
    "    try:\n",
    "        cursor = conn.cursor()\n",
    "\n",
    "        # Step 0: Get related tables based on all schemas and table hints\n",
    "        formatted_schemas = format_schemas(cursor, tables_hints)\n",
    "\n",
    "        if debug:\n",
    "            print(\"Related schemas: \\n\", formatted_schemas)\n",
    "            print('-'*30)\n",
    "        \n",
    "        # Step 1: Generate an SQL query based on the question and table hints.\n",
    "        sql_query = get_model_response(\n",
    "            sql_model, SQL_QUERY_PROMPT_TEMPLATE, \n",
    "            question=question, \n",
    "            db_schema=formatted_schemas, \n",
    "            tables_hints=tables_hints\n",
    "        )\n",
    "\n",
    "        if debug:\n",
    "            print(\"SQL query: \\n\", sql_query)\n",
    "            print('-'*30)\n",
    "\n",
    "        # Step 2: Execute the SQL query and fetch the results.\n",
    "        response = cursor.execute(sql_query)\n",
    "\n",
    "        # Step 3: Obtain records from response and schema information (column names) from the cursor description.\n",
    "        records = response.fetchall()\n",
    "        reponse_schema = [desc[0] for desc in cursor.description]\n",
    "        sql_response = format_sql_execution(records, reponse_schema, format='table')\n",
    "\n",
    "        if debug:\n",
    "            print(\"SQL execution response: \\n\", sql_response)\n",
    "            print('-'*30)\n",
    "\n",
    "        # Step 4: Process the query result and generate an answer with context using LLM.\n",
    "        answer = get_model_response(\n",
    "            answer_model, ANSWER_GENERATION_PROMPT_TEMPLATE,\n",
    "            question=question, \n",
    "            returned_schema=sql_response,\n",
    "            catchphrase='### Response:'\n",
    "        )\n",
    "\n",
    "\n",
    "        #Extra steps:\n",
    "        extras = {}\n",
    "\n",
    "        # Step 5.1: Generate figures\n",
    "        chart_type = get_model_response(\n",
    "            answer_model, CHART_GENERATION_PROMPT_TEMPLATE,\n",
    "            question=question,\n",
    "            returned_schema=sql_response,\n",
    "            catchphrase='### Response:'\n",
    "        ).lower()\n",
    "        \n",
    "        fig = plot_sql_chart(\n",
    "            records = records, \n",
    "            column_names = reponse_schema,\n",
    "            chart_type = chart_type, \n",
    "        )\n",
    "        extras['chart']=fig\n",
    "\n",
    "        return {\n",
    "            'answer': answer,\n",
    "            'sql_query': sql_query,\n",
    "            'sql_response': sql_response,\n",
    "            'extras': extras    \n",
    "        }\n",
    "\n",
    "    except sqlite3.Error as e:\n",
    "        print(f\"SQLite Error: {e}\")\n",
    "        return \"An error occurred while processing the query.\"\n",
    "    except Exception as e:\n",
    "        print(f\"Error: {e}\")\n",
    "        return \"An error occurred.\""
   ]
  },
  {
   "cell_type": "markdown",
   "id": "2bfacde0-5f78-40fb-a568-01fc7a990f08",
   "metadata": {},
   "source": [
    "![image](./imgs/chinook-er-diagram.png)"
   ]
  },
  {
   "cell_type": "code",
   "execution_count": 6,
   "id": "1825590e-b322-4b64-b80e-42a3b5521a8a",
   "metadata": {},
   "outputs": [
    {
     "name": "stdout",
     "output_type": "stream",
     "text": [
      "CREATE TABLE Album (\n",
      " \tAlbumId INTEGER PRIMARY KEY,\n",
      "\tTitle NVARCHAR(160) NOT NULL,\n",
      "\tArtistId INTEGER NOT NULL,\n",
      ");\n",
      "\n",
      "\n",
      "CREATE TABLE Artist (\n",
      " \tArtistId INTEGER PRIMARY KEY,\n",
      "\tName NVARCHAR(120),\n",
      ");\n",
      "\n",
      "\n",
      "CREATE TABLE Customer (\n",
      " \tCustomerId INTEGER PRIMARY KEY,\n",
      "\tFirstName NVARCHAR(40) NOT NULL,\n",
      "\tLastName NVARCHAR(20) NOT NULL,\n",
      "\tCompany NVARCHAR(80),\n",
      "\tAddress NVARCHAR(70),\n",
      "\tCity NVARCHAR(40),\n",
      "\tState NVARCHAR(40),\n",
      "\tCountry NVARCHAR(40),\n",
      "\tPostalCode NVARCHAR(10),\n",
      "\tPhone NVARCHAR(24),\n",
      "\tFax NVARCHAR(24),\n",
      "\tEmail NVARCHAR(60) NOT NULL,\n",
      "\tSupportRepId INTEGER,\n",
      ");\n",
      "\n",
      "\n",
      "CREATE TABLE Employee (\n",
      " \tEmployeeId INTEGER PRIMARY KEY,\n",
      "\tLastName NVARCHAR(20) NOT NULL,\n",
      "\tFirstName NVARCHAR(20) NOT NULL,\n",
      "\tTitle NVARCHAR(30),\n",
      "\tReportsTo INTEGER,\n",
      "\tBirthDate DATETIME,\n",
      "\tHireDate DATETIME,\n",
      "\tAddress NVARCHAR(70),\n",
      "\tCity NVARCHAR(40),\n",
      "\tState NVARCHAR(40),\n",
      "\tCountry NVARCHAR(40),\n",
      "\tPostalCode NVARCHAR(10),\n",
      "\tPhone NVARCHAR(24),\n",
      "\tFax NVARCHAR(24),\n",
      "\tEmail NVARCHAR(60),\n",
      ");\n",
      "\n",
      "\n",
      "CREATE TABLE Genre (\n",
      " \tGenreId INTEGER PRIMARY KEY,\n",
      "\tName NVARCHAR(120),\n",
      ");\n",
      "\n",
      "\n",
      "CREATE TABLE Invoice (\n",
      " \tInvoiceId INTEGER PRIMARY KEY,\n",
      "\tCustomerId INTEGER NOT NULL,\n",
      "\tInvoiceDate DATETIME NOT NULL,\n",
      "\tBillingAddress NVARCHAR(70),\n",
      "\tBillingCity NVARCHAR(40),\n",
      "\tBillingState NVARCHAR(40),\n",
      "\tBillingCountry NVARCHAR(40),\n",
      "\tBillingPostalCode NVARCHAR(10),\n",
      "\tTotal NUMERIC(10,2) NOT NULL,\n",
      ");\n",
      "\n",
      "\n",
      "CREATE TABLE InvoiceLine (\n",
      " \tInvoiceLineId INTEGER PRIMARY KEY,\n",
      "\tInvoiceId INTEGER NOT NULL,\n",
      "\tTrackId INTEGER NOT NULL,\n",
      "\tUnitPrice NUMERIC(10,2) NOT NULL,\n",
      "\tQuantity INTEGER NOT NULL,\n",
      ");\n",
      "\n",
      "\n",
      "CREATE TABLE MediaType (\n",
      " \tMediaTypeId INTEGER PRIMARY KEY,\n",
      "\tName NVARCHAR(120),\n",
      ");\n",
      "\n",
      "\n",
      "CREATE TABLE Playlist (\n",
      " \tPlaylistId INTEGER PRIMARY KEY,\n",
      "\tName NVARCHAR(120),\n",
      ");\n",
      "\n",
      "\n",
      "CREATE TABLE PlaylistTrack (\n",
      " \tPlaylistId INTEGER PRIMARY KEY,\n",
      "\tTrackId INTEGER PRIMARY KEY,\n",
      ");\n",
      "\n",
      "\n",
      "CREATE TABLE Track (\n",
      " \tTrackId INTEGER PRIMARY KEY,\n",
      "\tName NVARCHAR(200) NOT NULL,\n",
      "\tAlbumId INTEGER,\n",
      "\tMediaTypeId INTEGER NOT NULL,\n",
      "\tGenreId INTEGER,\n",
      "\tComposer NVARCHAR(220),\n",
      "\tMilliseconds INTEGER NOT NULL,\n",
      "\tBytes INTEGER,\n",
      "\tUnitPrice NUMERIC(10,2) NOT NULL,\n",
      ");\n",
      "\n",
      "Album.ArtistId can be joined with Artist.ArtistId\n",
      "Customer.SupportRepId can be joined with Employee.EmployeeId\n",
      "Employee.ReportsTo can be joined with Employee.EmployeeId\n",
      "Invoice.CustomerId can be joined with Customer.CustomerId\n",
      "InvoiceLine.TrackId can be joined with Track.TrackId\n",
      "InvoiceLine.InvoiceId can be joined with Invoice.InvoiceId\n",
      "PlaylistTrack.TrackId can be joined with Track.TrackId\n",
      "PlaylistTrack.PlaylistId can be joined with Playlist.PlaylistId\n",
      "Track.MediaTypeId can be joined with MediaType.MediaTypeId\n",
      "Track.GenreId can be joined with Genre.GenreId\n",
      "Track.AlbumId can be joined with Album.AlbumId\n",
      "\n"
     ]
    }
   ],
   "source": [
    "connection = connect_fun('/home/mpham/workspace/huawei-arena-2023/data/chinook/Chinook_Sqlite.sqlite')\n",
    "# connection = connect_fun('/home/mpham/workspace/huawei-arena-2023/data/taitanmai/blogDb.db')\n",
    "\n",
    "cursor = connection.cursor()\n",
    "print(format_schemas(cursor))"
   ]
  },
  {
   "cell_type": "code",
   "execution_count": 7,
   "id": "fb32e7b4-92ba-45d3-917d-da426412f4ac",
   "metadata": {},
   "outputs": [],
   "source": [
    "questions = [\n",
    "    # \"What is the highest sales of three salesman person? Give me the salesperson's name and his or her total sales\",\n",
    "    # \"In 1981 which team picked overall 148?\"\n",
    "\n",
    "    \"Find me 5 random song track names\",\n",
    "    \"What is the mean price of all the song tracks ?\",\n",
    "    \"How many employees are there ?\",\n",
    "    \"What is the nationality that has the most number of our customers ?\",\n",
    "    \"What is the average number of track of each playlist?\",\n",
    "    \"What is the average track price of each playlist?\",\n",
    "]\n",
    "\n",
    "\n",
    "questions2 = [\n",
    "    \"List all posts created by John Doe\",\n",
    "    \"List all posts having at least 2 comments\",\n",
    "    \"How many reactions did all the posts created by John Doe receive?\",\n",
    "    \"How many reactions did all the posts in Category 1 receive?\",\n",
    "    'How many “Like\" reactions did all the posts in Category 1 and its subordinates have?',\n",
    "    \"Which category gains the most attention in terms of number of comments received?\",\n",
    "    'What are the posts that belong to the category \"Category 1\" and its subordinates and have at least 1 comment or 1 reaction?',\n",
    "    'List all posts that belong to the category \"Category 2\" and its subordinates as long as the posts need to \\\n",
    "    have at least 1 comment and at least 1 reaction across either the posts or their comments.',\n",
    "]"
   ]
  },
  {
   "cell_type": "code",
   "execution_count": 8,
   "id": "560c5e9f-a0fe-445b-bdc5-961293f58e5d",
   "metadata": {},
   "outputs": [
    {
     "name": "stdout",
     "output_type": "stream",
     "text": [
      "Using matplotlib backend: <object object at 0x7f507f2d67d0>\n",
      "SELECT count(*) as num_employees\n",
      "FROM   employee;\n",
      "||   num_employees ||\n",
      "|               8 |\n",
      "According to the table, there are 8 employees in total.\n",
      "CPU times: user 1.79 s, sys: 418 ms, total: 2.2 s\n",
      "Wall time: 2.22 s\n"
     ]
    }
   ],
   "source": [
    "%%time\n",
    "%matplotlib auto\n",
    "\n",
    "result_dict = query_fun(\n",
    "    question=questions[2],\n",
    "    conn=connection,\n",
    "    tables_hints=[],\n",
    "    debug=False\n",
    ")\n",
    "\n",
    "print(result_dict['sql_query'])\n",
    "print(result_dict['sql_response'])\n",
    "print(result_dict['answer'])\n",
    "result_dict['extras']['chart']"
   ]
  },
  {
   "cell_type": "code",
   "execution_count": 9,
   "id": "44a9d864-7634-4271-8d6c-c1f3ba4f5143",
   "metadata": {},
   "outputs": [
    {
     "name": "stdout",
     "output_type": "stream",
     "text": [
      "Using matplotlib backend: agg\n",
      "SELECT customer.country,\n",
      "       count(*) as count\n",
      "FROM   customer\n",
      "GROUP BY customer.country\n",
      "ORDER BY count DESC\n",
      "LIMIT 1;\n",
      "|| Country   ||   count ||\n",
      "| USA       |      13 |\n",
      "Based on the data provided, the nationality that has the most number of our customers is the United States. According to the table, there are 13 customers from the USA. Therefore, the answer to the query is that the majority of our customers are from the United States.\n",
      "CPU times: user 3.54 s, sys: 197 ms, total: 3.74 s\n",
      "Wall time: 3.77 s\n"
     ]
    },
    {
     "data": {
      "image/png": "[encoded data removed]",
      "text/plain": [
       "<Figure size 640x480 with 1 Axes>"
      ]
     },
     "execution_count": 9,
     "metadata": {},
     "output_type": "execute_result"
    }
   ],
   "source": [
    "%%time\n",
    "%matplotlib auto\n",
    "\n",
    "result_dict = query_fun(\n",
    "    question=questions[3],\n",
    "    conn=connection,\n",
    "    tables_hints=[],\n",
    "    debug=False\n",
    ")\n",
    "\n",
    "print(result_dict['sql_query'])\n",
    "print(result_dict['sql_response'])\n",
    "print(result_dict['answer'])\n",
    "result_dict['extras']['chart']"
   ]
  },
  {
   "cell_type": "code",
   "execution_count": 7,
   "id": "65433f26-3bbf-4e6e-a48f-af54938a0c96",
   "metadata": {},
   "outputs": [
    {
     "name": "stdout",
     "output_type": "stream",
     "text": [
      "Using matplotlib backend: <object object at 0x7f5d3a9c5ba0>\n",
      "SELECT Playlist.Name,\n",
      "       AVG(PlaylistTrack.TrackId) AS avg_track_count\n",
      "FROM   Playlist\n",
      "  LEFT JOIN PlaylistTrack ON Playlist.PlaylistId = PlaylistTrack.PlaylistId\n",
      "GROUP BY Playlist.Name\n",
      "ORDER BY avg_track_count DESC;\n",
      "|| Name                       ||   avg_track_count ||\n",
      "| Classical 101 - Deep Cuts  |           3491    |\n",
      "| Classical                  |           3449.33 |\n",
      "| Classical 101 - Next Steps |           3442    |\n",
      "| Classical 101 - The Basics |           3415    |\n",
      "| Music Videos               |           3402    |\n",
      "| TV Shows                   |           3052.6  |\n",
      "| Grunge                     |           2122.13 |\n",
      "| 90’s Music                 |           1686.44 |\n",
      "| Music                      |           1667.8  |\n",
      "| Heavy Metal Classic        |           1340.92 |\n",
      "| Brazilian Music            |           1195.67 |\n",
      "| On-The-Go 1                |            597    |\n",
      "| Movies                     |                   |\n",
      "| Audiobooks                 |                   |\n",
      "The average number of tracks in each playlist is approximately 3400. Looking at the table, we can see that Classical 101 - Deep Cuts has the highest average number of tracks at 3491, followed by Classical 101 - Next Steps with 3442 tracks. Music Videos has the lowest average number of tracks at 3402. Overall, the average number of tracks in each playlist is around 3400.\n",
      "CPU times: user 5.41 s, sys: 502 ms, total: 5.92 s\n",
      "Wall time: 5.93 s\n"
     ]
    },
    {
     "data": {
      "image/png": "[encoded data removed]",
      "text/plain": [
       "<Figure size 640x480 with 1 Axes>"
      ]
     },
     "execution_count": 7,
     "metadata": {},
     "output_type": "execute_result"
    }
   ],
   "source": [
    "%%time\n",
    "%matplotlib auto\n",
    "\n",
    "result_dict = query_fun(\n",
    "    question=questions[4],\n",
    "    conn=connection,\n",
    "    tables_hints=[],\n",
    "    debug=False\n",
    ")\n",
    "\n",
    "print(result_dict['sql_query'])\n",
    "print(result_dict['sql_response'])\n",
    "print(result_dict['answer'])\n",
    "result_dict['extras']['chart']"
   ]
  },
  {
   "cell_type": "code",
   "execution_count": 8,
   "id": "5a1992b4-8964-4af2-8ff8-9856385d9ed0",
   "metadata": {},
   "outputs": [
    {
     "name": "stdout",
     "output_type": "stream",
     "text": [
      "Using matplotlib backend: agg\n",
      "SELECT Playlist.Name,\n",
      "       AVG(Track.UnitPrice) AS avg_track_price\n",
      "FROM   Playlist\n",
      "  JOIN PlaylistTrack ON Playlist.PlaylistId = PlaylistTrack.PlaylistId\n",
      "  JOIN Track ON PlaylistTrack.TrackId = Track.TrackId\n",
      "GROUP BY Playlist.Name\n",
      "ORDER BY avg_track_price DESC;\n",
      "|| Name                       ||   avg_track_price ||\n",
      "| TV Shows                   |              1.99 |\n",
      "| 90’s Music                 |              0.99 |\n",
      "| Grunge                     |              0.99 |\n",
      "| On-The-Go 1                |              0.99 |\n",
      "| Music Videos               |              0.99 |\n",
      "| Classical                  |              0.99 |\n",
      "| Brazilian Music            |              0.99 |\n",
      "| Heavy Metal Classic        |              0.99 |\n",
      "| Classical 101 - The Basics |              0.99 |\n",
      "| Classical 101 - Next Steps |              0.99 |\n",
      "| Classical 101 - Deep Cuts  |              0.99 |\n",
      "| Music                      |              0.99 |\n",
      "The average track price of each playlist is approximately $1.99. According to the table, the TV Shows playlist has an average track price of $1.99, while the 90's Music playlist has an average track price of $0.99. Similarly, the Grunge playlist has an average track price of $0.99, and the On-The-Go 1 playlist has an average track price of $0.99. The Music Videos playlist has an average track price of $0.99, and the Classical playlist has an average track price of $0.99. The Brazilian Music playlist has an average track price of $0.99, and the Heavy Metal Classic playlist has an average track price of $0.99. Lastly, the Classical 101 - The Basics playlist has an average track price of $0.99, and the Classical 101 - Next Steps playlist has an average track price of $0.99. Overall, the average track price of each playlist is approximately $1.99.\n",
      "CPU times: user 9.17 s, sys: 233 ms, total: 9.4 s\n",
      "Wall time: 9.42 s\n"
     ]
    },
    {
     "data": {
      "image/png": "[encoded data removed]",
      "text/plain": [
       "<Figure size 640x480 with 1 Axes>"
      ]
     },
     "execution_count": 8,
     "metadata": {},
     "output_type": "execute_result"
    }
   ],
   "source": [
    "%%time\n",
    "%matplotlib auto\n",
    "\n",
    "result_dict = query_fun(\n",
    "    question=questions[5],\n",
    "    conn=connection,\n",
    "    tables_hints=[],\n",
    "    debug=False\n",
    ")\n",
    "\n",
    "print(result_dict['sql_query'])\n",
    "print(result_dict['sql_response'])\n",
    "print(result_dict['answer'])\n",
    "result_dict['extras']['chart']"
   ]
  },
  {
   "cell_type": "markdown",
   "id": "bb49a78f-6882-4b79-a205-74a6ebf2b7f6",
   "metadata": {
    "jp-MarkdownHeadingCollapsed": true
   },
   "source": [
    "# Experiment"
   ]
  },
  {
   "cell_type": "code",
   "execution_count": 3,
   "id": "3ffa8fa6-3876-4408-b589-a036d29d7bc5",
   "metadata": {},
   "outputs": [],
   "source": [
    "sales_db_schema = \"\"\"\n",
    "CREATE TABLE products (\n",
    "  product_id INTEGER PRIMARY KEY, -- Unique ID for each product\n",
    "  name VARCHAR(50), -- Name of the product\n",
    "  price DECIMAL(10,2), -- Price of each unit of the product\n",
    "  quantity INTEGER  -- Current quantity in stock\n",
    ");\n",
    "\n",
    "CREATE TABLE customers (\n",
    "   customer_id INTEGER PRIMARY KEY, -- Unique ID for each customer\n",
    "   name VARCHAR(50), -- Name of the customer\n",
    "   address VARCHAR(100) -- Mailing address of the customer\n",
    ");\n",
    "\n",
    "CREATE TABLE salespeople (\n",
    "  salesperson_id INTEGER PRIMARY KEY, -- Unique ID for each salesperson\n",
    "  name VARCHAR(50), -- Name of the salesperson\n",
    "  region VARCHAR(50) -- Geographic sales region\n",
    ");\n",
    "\n",
    "CREATE TABLE sales (\n",
    "  sale_id INTEGER PRIMARY KEY, -- Unique ID for each sale\n",
    "  product_id INTEGER, -- ID of product sold\n",
    "  customer_id INTEGER,  -- ID of customer who made purchase\n",
    "  salesperson_id INTEGER, -- ID of salesperson who made the sale\n",
    "  sale_date DATE, -- Date the sale occurred\n",
    "  quantity INTEGER -- Quantity of product sold\n",
    ");\n",
    "\n",
    "CREATE TABLE product_suppliers (\n",
    "  supplier_id INTEGER PRIMARY KEY, -- Unique ID for each supplier\n",
    "  product_id INTEGER, -- Product ID supplied\n",
    "  supply_price DECIMAL(10,2) -- Unit price charged by supplier\n",
    ");\n",
    "\n",
    "-- sales.product_id can be joined with products.product_id\n",
    "-- sales.customer_id can be joined with customers.customer_id\n",
    "-- sales.salesperson_id can be joined with salespeople.salesperson_id\n",
    "-- product_suppliers.product_id can be joined with products.product_id\n",
    "\"\"\"\n",
    "\n",
    "question = \"What product has the biggest fall in sales in 2022 compared to 2021? \\\n",
    "            Give me the product name, the sales amount in both years, and the difference.\""
   ]
  },
  {
   "cell_type": "code",
   "execution_count": 4,
   "id": "39943cff-a31c-4647-a2d6-a83149d4781f",
   "metadata": {},
   "outputs": [
    {
     "name": "stdout",
     "output_type": "stream",
     "text": [
      "CPU times: user 3.7 s, sys: 419 ms, total: 4.12 s\n",
      "Wall time: 4.12 s\n"
     ]
    }
   ],
   "source": [
    "%%time\n",
    "sql_query = get_model_response(\n",
    "    sql_model, SQL_QUERY_PROMPT_TEMPLATE, \n",
    "    question=question, \n",
    "    db_schema=sales_db_schema, \n",
    "    tables_hints=[],\n",
    "    num_beams=1\n",
    ")"
   ]
  },
  {
   "cell_type": "code",
   "execution_count": 64,
   "id": "68fb5d72-cdae-4042-9cb6-5396a1066690",
   "metadata": {},
   "outputs": [],
   "source": [
    "CHART_GENERATION_PROMPT_TEMPLATE3 = \"\"\"### Instructions:\n",
    "Imagine you are a database analyst and security expert. You will be given a question and an SQL query.\n",
    "Your task is to answer the question based on the SQL query. \n",
    "\n",
    "### Question:\n",
    "Is it safe to run this query? Just say [YES] or [NO]. Then explain\n",
    "\n",
    "### SQL query:\n",
    "SELECT product.name\n",
    "FROM product\n",
    "WHERE product.id=105 OR 1=1\n",
    "    \n",
    "### Response:\n",
    "\n",
    "\"\"\"    "
   ]
  },
  {
   "cell_type": "code",
   "execution_count": 70,
   "id": "b3c0c755-4034-4050-a1ed-f37afc43be98",
   "metadata": {},
   "outputs": [],
   "source": [
    "CHART_GENERATION_PROMPT_TEMPLATE3 = \"\"\"### Instructions:\n",
    "Imagine you are a database analyst and security expert. You will be given a question and an SQL query.\n",
    "Your task is to answer the question based on the SQL query. \n",
    "\n",
    "### Question:\n",
    "Is it safe to run this query? Just say [YES] or [NO]. Then explain\n",
    "\n",
    "### SQL query:\n",
    "SELECT user.username, user.password\n",
    "FROM user\n",
    "WHERE user.role=\"admin\"\n",
    "    \n",
    "### Response:\n",
    "\n",
    "\"\"\"    "
   ]
  },
  {
   "cell_type": "code",
   "execution_count": 76,
   "id": "35d9e8e4-fd1f-4ce1-ad7c-c783dc96e7c7",
   "metadata": {},
   "outputs": [],
   "source": [
    "CHART_GENERATION_PROMPT_TEMPLATE3 = \"\"\"### Instructions:\n",
    "Imagine you are a database analyst and security expert. You will be given a question and an SQL query.\n",
    "Your task is to answer the question based on the SQL query. \n",
    "\n",
    "### Question:\n",
    "Is it safe to run this query? Just say [YES] or [NO]. Then explain\n",
    "\n",
    "### SQL query:\n",
    "ALTER TABLE user\n",
    "ADD haha INTEGER;\n",
    "    \n",
    "### Response:\n",
    "\n",
    "\"\"\"    "
   ]
  },
  {
   "cell_type": "code",
   "execution_count": 85,
   "id": "3b2fe705-4ce8-41fe-a0a4-9d1de00e4f5b",
   "metadata": {},
   "outputs": [],
   "source": [
    "CHART_GENERATION_PROMPT_TEMPLATE3 = \"\"\"\n",
    "Imagine you are a database analyst and security expert. You will be given a question and an SQL query.\n",
    "Your task is to answer the question based on the SQL query. \n",
    "\n",
    "### Question:\n",
    "Is it safe to run this query? Just say [YES] or [NO]. Then explain and give SQL suggestion\n",
    "\n",
    "### SQL query:\n",
    "SELECT user.name\n",
    "FROM user\n",
    "WHERE user.security_level='HIGH'\n",
    "\n",
    "### Response:\n",
    "\n",
    "\"\"\"    "
   ]
  },
  {
   "cell_type": "code",
   "execution_count": 86,
   "id": "d019b9fe-0d40-4cfb-8182-753dc90e0895",
   "metadata": {},
   "outputs": [
    {
     "name": "stdout",
     "output_type": "stream",
     "text": [
      "\n",
      "Imagine you are a database analyst and security expert. You will be given a question and an SQL query.\n",
      "Your task is to answer the question based on the SQL query. \n",
      "\n",
      "### Question:\n",
      "Is it safe to run this query? Just say [YES] or [NO]. Then explain and give SQL suggestion\n",
      "\n",
      "### SQL query:\n",
      "SELECT user.name\n",
      "FROM user\n",
      "WHERE user.security_level='HIGH'\n",
      "\n",
      "### Response:\n",
      "\n",
      "[NO]\n",
      "\n",
      "This query is not safe because it exposes sensitive information about the users in the system. The query only requires the user name, which is a sensitive piece of information that could be used for malicious purposes. Additionally, the query does not include any authentication or authorization mechanisms to ensure that only authorized users can access this information.\n",
      "To make the query safer, you could add additional filters or constraints to the query to limit the information exposed. For example, you could add a filter to only return the user name for users with a specific role or level of clearance. You could also add authentication and authorization mechanisms to ensure that only authorized users can access this information.\n",
      "Here is an example of a safer query:\n",
      "SELECT user.name\n",
      "FROM user\n",
      "WHERE user.security_level='HIGH' AND user.role='ADMIN'\n",
      "This query is safer because it limits the information exposed to only the user name for users with the highest level of security clearance and the role of administrator. This reduces the risk of sensitive information being exposed to unauthorized users.\n"
     ]
    }
   ],
   "source": [
    "# Generate figures\n",
    "chart_type = get_model_response(\n",
    "    answer_model, CHART_GENERATION_PROMPT_TEMPLATE3,\n",
    ")\n",
    "print(chart_type)\n",
    "# figures = visualize_sql_response(sql_response, chart_type, sql_schema)"
   ]
  }
 ],
 "metadata": {
  "kernelspec": {
   "display_name": "Python 3 (ipykernel)",
   "language": "python",
   "name": "python3"
  },
  "language_info": {
   "codemirror_mode": {
    "name": "ipython",
    "version": 3
   },
   "file_extension": ".py",
   "mimetype": "text/x-python",
   "name": "python",
   "nbconvert_exporter": "python",
   "pygments_lexer": "ipython3",
   "version": "3.10.11"
  }
 },
 "nbformat": 4,
 "nbformat_minor": 5
}
